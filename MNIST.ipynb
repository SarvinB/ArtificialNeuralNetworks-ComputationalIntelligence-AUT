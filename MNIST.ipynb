{
 "cells": [
  {
   "cell_type": "code",
   "execution_count": 14,
   "metadata": {},
   "outputs": [],
   "source": [
    "import pandas as pd\n",
    "import numpy as np\n",
    "import matplotlib.pyplot as plt\n",
    "import os\n",
    "import cv2\n",
    "import glob\n",
    "from PIL import Image\n",
    "from layers.convolution2d import Conv2D\n",
    "from layers.maxpooling2d import MaxPool2D\n",
    "from layers.fullyconnected import FC\n",
    "from activations import Activation, get_activation\n",
    "from optimizers.gradientdescent import GD\n",
    "from losses.meansquarederror import MeanSquaredError\n",
    "from model import Model\n",
    "from optimizers.adam import Adam\n",
    "from losses.binarycrossentropy import BinaryCrossEntropy"
   ]
  },
  {
   "cell_type": "markdown",
   "metadata": {},
   "source": [
    " **Read Images with cv2 and glob library**\n",
    " \n",
    " **k is number of image we use to train model from each file**"
   ]
  },
  {
   "cell_type": "code",
   "execution_count": 15,
   "metadata": {},
   "outputs": [],
   "source": [
    "k = 10\n",
    "base_dir_2 = '/Users/sarvinbaghi/Desktop/6/Neural Network/project1/ArtificialNeuralNetworks-ComputationalIntelligence-AUT/datasets/MNIST/2/*.jpg'\n",
    "base_dir_5 = '/Users/sarvinbaghi/Desktop/6/Neural Network/project1/ArtificialNeuralNetworks-ComputationalIntelligence-AUT/datasets/MNIST/5/*.jpg'\n",
    "images = np.empty((2000, 28, 28, 1))\n",
    "i = 0\n",
    "for filename in glob.glob(base_dir_2):\n",
    "    img=cv2.imread(filename, 0)\n",
    "    images[i, :, :, 0] = img\n",
    "    if (i == k):\n",
    "        break\n",
    "for filename in glob.glob(base_dir_5):\n",
    "    img=cv2.imread(filename, 0)\n",
    "    images[i, :, :, 0] = img\n",
    "    i += 1\n",
    "    if (i == 2*k):\n",
    "        break"
   ]
  },
  {
   "cell_type": "markdown",
   "metadata": {},
   "source": [
    "**Make True Y**"
   ]
  },
  {
   "cell_type": "code",
   "execution_count": 16,
   "metadata": {},
   "outputs": [],
   "source": [
    "Y = np.empty(2*k)\n",
    "Y[0:k].fill(0)\n",
    "Y[k:2*k].fill(1)"
   ]
  },
  {
   "attachments": {},
   "cell_type": "markdown",
   "metadata": {},
   "source": [
    "**Model has 2 convolutional layer with Maxpool layer after each convolutional layer and activation of both type of layer is linear.\n",
    "Last layer is fully connected layer with sigmoid activation function\n",
    "loose function of model is MSE and optimizer is Adam**"
   ]
  },
  {
   "cell_type": "code",
   "execution_count": 17,
   "metadata": {},
   "outputs": [
    {
     "name": "stderr",
     "output_type": "stream",
     "text": [
      " 10%|█         | 1/10 [00:02<00:25,  2.87s/it]"
     ]
    },
    {
     "name": "stdout",
     "output_type": "stream",
     "text": [
      "Epoch 0: train cost = 1.699849083567802\n"
     ]
    },
    {
     "name": "stderr",
     "output_type": "stream",
     "text": [
      " 20%|██        | 2/10 [00:05<00:23,  2.90s/it]"
     ]
    },
    {
     "name": "stdout",
     "output_type": "stream",
     "text": [
      "Epoch 1: train cost = 2.0276010608366533\n"
     ]
    },
    {
     "name": "stderr",
     "output_type": "stream",
     "text": [
      " 30%|███       | 3/10 [00:08<00:20,  2.89s/it]"
     ]
    },
    {
     "name": "stdout",
     "output_type": "stream",
     "text": [
      "Epoch 2: train cost = 1.48533188238364\n"
     ]
    },
    {
     "name": "stderr",
     "output_type": "stream",
     "text": [
      " 40%|████      | 4/10 [00:11<00:17,  2.89s/it]"
     ]
    },
    {
     "name": "stdout",
     "output_type": "stream",
     "text": [
      "Epoch 3: train cost = 1.5657505005340902\n"
     ]
    },
    {
     "name": "stderr",
     "output_type": "stream",
     "text": [
      " 50%|█████     | 5/10 [00:14<00:14,  2.90s/it]"
     ]
    },
    {
     "name": "stdout",
     "output_type": "stream",
     "text": [
      "Epoch 4: train cost = 1.1805517586020693\n"
     ]
    },
    {
     "name": "stderr",
     "output_type": "stream",
     "text": [
      " 60%|██████    | 6/10 [00:17<00:11,  2.91s/it]"
     ]
    },
    {
     "name": "stdout",
     "output_type": "stream",
     "text": [
      "Epoch 5: train cost = 0.9837740893663224\n"
     ]
    },
    {
     "name": "stderr",
     "output_type": "stream",
     "text": [
      " 70%|███████   | 7/10 [00:20<00:08,  2.90s/it]"
     ]
    },
    {
     "name": "stdout",
     "output_type": "stream",
     "text": [
      "Epoch 6: train cost = 0.7535812366166112\n"
     ]
    },
    {
     "name": "stderr",
     "output_type": "stream",
     "text": [
      " 80%|████████  | 8/10 [00:23<00:05,  2.90s/it]"
     ]
    },
    {
     "name": "stdout",
     "output_type": "stream",
     "text": [
      "Epoch 7: train cost = 0.797647823125403\n"
     ]
    },
    {
     "name": "stderr",
     "output_type": "stream",
     "text": [
      " 90%|█████████ | 9/10 [00:26<00:02,  2.90s/it]"
     ]
    },
    {
     "name": "stdout",
     "output_type": "stream",
     "text": [
      "Epoch 8: train cost = 0.6666861560373427\n"
     ]
    },
    {
     "name": "stderr",
     "output_type": "stream",
     "text": [
      "100%|██████████| 10/10 [00:28<00:00,  2.90s/it]"
     ]
    },
    {
     "name": "stdout",
     "output_type": "stream",
     "text": [
      "Epoch 9: train cost = 0.5726085754854219\n"
     ]
    },
    {
     "name": "stderr",
     "output_type": "stream",
     "text": [
      "\n"
     ]
    }
   ],
   "source": [
    "layer1 = Conv2D(1, 5, \"l1\")\n",
    "activation1 = get_activation(\"linear\")\n",
    "layer2 = MaxPool2D()\n",
    "activation2 = get_activation(\"linear\")\n",
    "layer3 = Conv2D(5, 5, \"l3\")\n",
    "activation3 = get_activation(\"linear\")\n",
    "layer4 = MaxPool2D()\n",
    "activation4 = get_activation(\"linear\")\n",
    "layer5= FC(2880, 1, \"l5\")\n",
    "activation5 = get_activation(\"sigmoid\")\n",
    "epochs = 10\n",
    "arch = {\"l1\" : layer1, \"a1\" : activation1, \"l2\" : layer2, \"a2\" : activation2, \"l3\" : layer3, \"a3\" : activation3,  \"l4\" : layer4, \"a4\" : activation4,  \"l5\" : layer5, \"a5\" : activation5}\n",
    "layers_list = {\"l1\" : layer1, \"l3\" : layer3, \"l5\" : layer5}\n",
    "loos_function = MeanSquaredError()\n",
    "optimizer = Adam(layers_list)\n",
    "model = Model(arch, loos_function, optimizer)\n",
    "train_cost, val_cost = model.train(images[0:2*k], Y.T, epochs, shuffling=True)"
   ]
  },
  {
   "cell_type": "markdown",
   "metadata": {},
   "source": [
    "**Result of model in plot mode**"
   ]
  },
  {
   "cell_type": "code",
   "execution_count": 21,
   "metadata": {},
   "outputs": [
    {
     "data": {
      "text/plain": [
       "[<matplotlib.lines.Line2D at 0x13b0b0580>]"
      ]
     },
     "execution_count": 21,
     "metadata": {},
     "output_type": "execute_result"
    },
    {
     "data": {
      "image/png": "[encoded data removed]",
      "text/plain": [
       "<Figure size 1200x500 with 1 Axes>"
      ]
     },
     "metadata": {},
     "output_type": "display_data"
    }
   ],
   "source": [
    "y_pred = np.asarray(model.predict(images[0:2*k])[9]).reshape((2*k, 1))\n",
    "\n",
    "for i in range(len(y_pred)):\n",
    "    if y_pred[i] >= 0.5:\n",
    "        y_pred[i] = 1\n",
    "    else:\n",
    "        y_pred[i] = 0\n",
    "stop = 2*k\n",
    "fig, axs = plt.subplots(1, 1, figsize=(12, 5))\n",
    "xpoints = np.asanyarray(range(stop))\n",
    "axs.plot(xpoints, np.asarray(Y).reshape((2*k, 1))[0:stop], 'o', color=\"orange\")\n",
    "axs.plot(xpoints, y_pred[0:stop], 'o', color=\"blue\")"
   ]
  },
  {
   "cell_type": "code",
   "execution_count": 22,
   "metadata": {},
   "outputs": [
    {
     "name": "stdout",
     "output_type": "stream",
     "text": [
      "[0. 0. 0. 0. 0. 0. 0. 0. 0. 0. 1. 1. 1. 1. 1. 1. 1. 1. 1. 1.]\n",
      "[[0. 0. 0. 0. 0. 0. 0. 0. 0. 0. 0. 1. 0. 1. 1. 1. 1. 1. 1. 1.]]\n"
     ]
    }
   ],
   "source": [
    "print(Y)\n",
    "print(y_pred.T)"
   ]
  }
 ],
 "metadata": {
  "kernelspec": {
   "display_name": "jupyterkernel",
   "language": "python",
   "name": "jupyterkernel"
  },
  "language_info": {
   "codemirror_mode": {
    "name": "ipython",
    "version": 3
   },
   "file_extension": ".py",
   "mimetype": "text/x-python",
   "name": "python",
   "nbconvert_exporter": "python",
   "pygments_lexer": "ipython3",
   "version": "3.9.6"
  }
 },
 "nbformat": 4,
 "nbformat_minor": 2
}
